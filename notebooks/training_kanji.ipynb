{
  "cells": [
    {
      "cell_type": "markdown",
      "metadata": {
        "id": "IvTPFOp8JS_t"
      },
      "source": [
        "# 漢字学習タスクGRPO学習ノートブック\n"
      ]
    },
    {
      "cell_type": "markdown",
      "metadata": {
        "id": "tH02z0KOJS_v"
      },
      "source": [
        "## 1. 環境セットアップ"
      ]
    },
    {
      "cell_type": "code",
      "execution_count": null,
      "metadata": {
        "id": "VjX8bFdyJS_w"
      },
      "outputs": [],
      "source": [
        "# GPU環境の確認\n",
        "import torch\n",
        "import os\n",
        "\n",
        "print(\"=== GPU環境チェック ===\")\n",
        "print(f\"CUDA利用可能: {torch.cuda.is_available()}\")\n",
        "\n",
        "if torch.cuda.is_available():\n",
        "    print(f\"GPU名: {torch.cuda.get_device_name(0)}\")\n",
        "    print(f\"GPUメモリ: {torch.cuda.get_device_properties(0).total_memory / 1024**3:.2f} GB\")\n",
        "    print(\"✅ GPU環境が正常に検出されました！\")\n",
        "else:\n",
        "    print(\"❌ GPUが検出されません！\")\n",
        "    print(\"上記の手順でGPUを有効にしてください。\")\n",
        "    print(\"その後、ランタイムを再起動してこのセルを再実行してください。\")\n",
        "\n",
        "# Colab環境かチェック\n",
        "if 'COLAB_GPU' in os.environ:\n",
        "    print(f\"\\nGoogle Colab GPU: {os.environ['COLAB_GPU']}\")\n",
        "elif 'COLAB_' in \"\".join(os.environ.keys()):\n",
        "    print(\"\\nGoogle Colab環境です。GPUを有効にしてください。\")\n",
        "else:\n",
        "    print(\"\\nローカル環境で実行中\")"
      ]
    },
    {
      "cell_type": "markdown",
      "metadata": {
        "id": "RGC81jlXJS_x"
      },
      "source": [
        "*   unsloth 2025.7.3\n",
        "*   unsloth-zoo 2025.7.4\n",
        "\n",
        "の組み合わせで動作。\n",
        "\n",
        "https://github.com/unslothai/unsloth/issues/2983"
      ]
    },
    {
      "cell_type": "code",
      "execution_count": null,
      "metadata": {
        "id": "Jfgpe97hJS_x"
      },
      "outputs": [],
      "source": [
        "%%capture\n",
        "import os\n",
        "if \"COLAB_\" not in \"\".join(os.environ.keys()):\n",
        "    !pip install unsloth==2025.7.3 unsloth-zoo==2025.7.4 vllm\n",
        "else:\n",
        "    # [NOTE] Do the below ONLY in Colab! Use [[pip install unsloth vllm]]\n",
        "    !pip install --no-deps unsloth==2025.7.3 unsloth-zoo==2025.7.4 vllm==0.8.5.post1"
      ]
    },
    {
      "cell_type": "code",
      "execution_count": null,
      "metadata": {
        "id": "gKHGGh_kJS_x"
      },
      "outputs": [],
      "source": [
        "#@title Colab追加インストール { display-mode: \"form\" }\n",
        "%%capture\n",
        "import os\n",
        "if \"COLAB_\" not in \"\".join(os.environ.keys()):\n",
        "    !pip install unsloth==2025.7.3, unsloth-zoo==2025.7.4 vllm\n",
        "else:\n",
        "    !pip install --no-deps unsloth==2025.7.3 vllm==0.8.5.post1\n",
        "    # Qwen3_(4B)_GRPO.ipynbと同じ設定\n",
        "    import sys, re, requests; modules = list(sys.modules.keys())\n",
        "    for x in modules: sys.modules.pop(x) if \"PIL\" in x or \"google\" in x else None\n",
        "    !pip install --no-deps bitsandbytes accelerate xformers==0.0.29.post3 peft trl triton cut_cross_entropy unsloth-zoo==2025.7.4\n",
        "    !pip install sentencepiece protobuf \"datasets>=3.4.1\" huggingface_hub hf_transfer\n",
        "\n",
        "    # vLLM requirements - vLLMはnumpyを再インストールするためColabを壊す\n",
        "    f = requests.get(\"https://raw.githubusercontent.com/vllm-project/vllm/refs/heads/main/requirements/common.txt\").content\n",
        "    with open(\"vllm_requirements.txt\", \"wb\") as file:\n",
        "        file.write(re.sub(rb\"(transformers|numpy|xformers)[^\\n]{1,}\\n\", b\"\", f))\n",
        "    !pip install -r vllm_requirements.txt"
      ]
    },
    {
      "cell_type": "markdown",
      "metadata": {
        "id": "2eg0h6RCJS_y"
      },
      "source": [
        "## 2. モデルのロード"
      ]
    },
    {
      "cell_type": "code",
      "execution_count": null,
      "metadata": {
        "id": "LwQYrdZqJS_y"
      },
      "outputs": [],
      "source": [
        "# GPU環境が確認できた場合のみ実行\n",
        "if not torch.cuda.is_available():\n",
        "    raise RuntimeError(\"GPUが検出されません。上記の手順でGPUを有効にしてください。\")\n",
        "\n",
        "from unsloth import FastLanguageModel\n",
        "import torch\n",
        "\n",
        "print(\"モデルをロード中...\")\n",
        "max_seq_length = 2048\n",
        "lora_rank = 32\n",
        "\n",
        "model, tokenizer = FastLanguageModel.from_pretrained(\n",
        "    model_name = \"unsloth/Qwen3-4B-Base\",\n",
        "    max_seq_length = max_seq_length,\n",
        "    load_in_4bit = False,\n",
        "    fast_inference = True,\n",
        "    max_lora_rank = lora_rank,\n",
        "    gpu_memory_utilization = 0.7,\n",
        ")\n",
        "\n",
        "model = FastLanguageModel.get_peft_model(\n",
        "    model,\n",
        "    r = lora_rank,\n",
        "    target_modules = [\"q_proj\", \"k_proj\", \"v_proj\", \"o_proj\", \"gate_proj\", \"up_proj\", \"down_proj\"],\n",
        "    lora_alpha = lora_rank*2,\n",
        "    use_gradient_checkpointing = \"unsloth\",\n",
        "    random_state = 3407,\n",
        ")"
      ]
    },
    {
      "cell_type": "markdown",
      "metadata": {
        "id": "2O-Tz-bVJS_y"
      },
      "source": [
        "## 3.nihongo-dojoのインストール"
      ]
    },
    {
      "cell_type": "code",
      "execution_count": null,
      "metadata": {
        "id": "mIIvjZ6dJS_z"
      },
      "outputs": [],
      "source": [
        "# Google Colab環境での準備\n",
        "%cd /content\n",
        "!git clone https://github.com/AkabekoLabs/nihongo-dojo\n",
        "%cd /content/nihongo-dojo/\n",
        "!pip install -e .\n",
        "!pip install japanize-matplotlib scikit-learn\n",
        "%cd /content/"
      ]
    },
    {
      "cell_type": "code",
      "source": [
        "import sys\n",
        "sys.path.insert(0, '/content/nihongo-dojo')\n",
        "\n",
        "# キャッシュクリア (重要)\n",
        "import importlib\n",
        "importlib.invalidate_caches()\n",
        "\n",
        "# これで再インポート\n",
        "import nihongo_dojo\n",
        "importlib.reload(nihongo_dojo)"
      ],
      "metadata": {
        "id": "ixCFvS9gAsoU"
      },
      "execution_count": null,
      "outputs": []
    },
    {
      "cell_type": "markdown",
      "metadata": {
        "id": "VR_mWudOJS_z"
      },
      "source": [
        "## 4. チャットテンプレートの設定"
      ]
    },
    {
      "cell_type": "code",
      "execution_count": null,
      "metadata": {
        "id": "3XFtpA9aJS_z"
      },
      "outputs": [],
      "source": [
        "# チャットテンプレートを設定\n",
        "system_prompt = \"あなたは親切で賢いアシスタントです。漢字の読み方または書き方について正確に答えてください。\"\n",
        "\n",
        "# デフォルト設定\n",
        "reasoning_start = \"<reasoning>\"\n",
        "reasoning_end = \"</reasoning>\"\n",
        "solution_start = \"<answer>\"\n",
        "solution_end = \"</answer>\"\n",
        "\n",
        "chat_template = \"\"\"{% if messages[0]['role'] == 'system' %}{{ messages[0]['content'] }}{% endif %}\n",
        "\n",
        "{% for message in messages %}{% if message['role'] == 'user' %}\n",
        "User: {{ message['content'] }}\n",
        "\n",
        "{% elif message['role'] == 'assistant' %}{{ 'Assistant: ' + message['content'] }}{% endif %}{% endfor %}\"\"\"\n",
        "\n",
        "tokenizer.chat_template = chat_template"
      ]
    },
    {
      "cell_type": "markdown",
      "metadata": {
        "id": "pAS--VnEJS_z"
      },
      "source": [
        "## 5. データセットの作成"
      ]
    },
    {
      "cell_type": "code",
      "execution_count": null,
      "metadata": {
        "id": "5xHrWRLgJS_z"
      },
      "outputs": [],
      "source": [
        "# 漢字データセット生成\n",
        "import os\n",
        "if not os.path.exists(\"./datasets/nihongo-dojo-kanji/\"):\n",
        "    %cd /content\n",
        "    !python nihongo-dojo/scripts/generate_datasets.py --tasks KANJI_READING KANJI_WRITING --grades 1 2 3 4 5 6 --custom-size 5000 --output-format jsonl --output-dir ./datasets\n",
        "else:\n",
        "    print(\"データセットは既に生成済みです\")"
      ]
    },
    {
      "cell_type": "code",
      "execution_count": null,
      "metadata": {
        "id": "MTbLgHAIJS_0"
      },
      "outputs": [],
      "source": [
        "from datasets import load_dataset, Dataset\n",
        "import numpy as np\n",
        "import sys\n",
        "\n",
        "print(\"データセットを読み込み中...\")\n",
        "\n",
        "dataset_path = './datasets/nihongo-dojo-grades1-2-3-4-5-6-kanji_reading-kanji_writing/'\n",
        "\n",
        "# all.jsonlファイルが存在するか確認\n",
        "import os\n",
        "if os.path.exists(os.path.join(dataset_path, 'all.jsonl')):\n",
        "    # 直接ファイルを読み込む方法\n",
        "    import json\n",
        "    data = []\n",
        "    with open(os.path.join(dataset_path, 'all.jsonl'), 'r', encoding='utf-8') as f:\n",
        "        for line in f:\n",
        "            data.append(json.loads(line))\n",
        "    dataset = Dataset.from_list(data)\n",
        "elif os.path.exists(os.path.join(dataset_path, 'train.jsonl')):\n",
        "    # train.jsonlを試す\n",
        "    import json\n",
        "    data = []\n",
        "    with open(os.path.join(dataset_path, 'train.jsonl'), 'r', encoding='utf-8') as f:\n",
        "        for line in f:\n",
        "            data.append(json.loads(line))\n",
        "    dataset = Dataset.from_list(data)\n",
        "else:\n",
        "    # データセットが見つからない場合のエラーメッセージ\n",
        "    raise FileNotFoundError(f\"データセットが見つかりません: {dataset_path}\")\n",
        "\n",
        "print(f\"データセットサイズ: {len(dataset)}\")\n",
        "\n",
        "# データセットの例を表示\n",
        "print(\"\\nデータセットの例:\")\n",
        "for i in range(min(3, len(dataset))):\n",
        "    print(f\"\\n例{i+1}:\")\n",
        "    print(f\"  問題: {dataset[i]['instruction']}{dataset[i]['input']}\")\n",
        "    print(f\"  答え: {dataset[i]['answer']}\")\n",
        "    print(f\"  説明: {dataset[i]['think'][:100]}...\")"
      ]
    },
    {
      "cell_type": "code",
      "execution_count": null,
      "metadata": {
        "id": "b60GuhXrJS_0"
      },
      "outputs": [],
      "source": [
        "# フォーマット変換\n",
        "formatted_data = []\n",
        "for item in dataset:\n",
        "    question = item['instruction'] + item['input']\n",
        "    answer = item['answer']\n",
        "    think = item['think']\n",
        "    solution = f\"{reasoning_start}\\n{think}\\n{reasoning_end}\\n{solution_start}{answer}{solution_end}\"\n",
        "\n",
        "    messages = [\n",
        "        {\"role\": \"system\", \"content\": system_prompt},\n",
        "        {\"role\": \"user\", \"content\": question},\n",
        "        {\"role\": \"assistant\", \"content\": solution}\n",
        "    ]\n",
        "\n",
        "    formatted_data.append({\n",
        "        \"Messages\": messages,\n",
        "        \"problem\": question,\n",
        "        \"solution\": solution,\n",
        "        \"answer\": answer,\n",
        "    })\n",
        "\n",
        "dataset = Dataset.from_list(formatted_data)\n",
        "print(f\"フォーマット済みデータセット: {len(dataset)}個\")"
      ]
    },
    {
      "cell_type": "markdown",
      "metadata": {
        "id": "t6h5t4ipJS_0"
      },
      "source": [
        "## 6. SFTによる事前学習（フォーマット学習）\n",
        "\n",
        "コールドスタート問題を解消するために、`<reasoning></reasoning><answer></answer>`のフォーマットで出力ができるようにSFTで学習させます。"
      ]
    },
    {
      "cell_type": "code",
      "execution_count": null,
      "metadata": {
        "id": "fhBGJkbqJS_0"
      },
      "outputs": [],
      "source": [
        "# 短い例のみを選択\n",
        "dataset = dataset.map(lambda x: {\"N\": len(tokenizer.apply_chat_template(x[\"Messages\"]))})\n",
        "pre_train_dataset = dataset.filter(lambda x: x[\"N\"] <= max_seq_length/2).select(range(min(50, len(dataset))))\n",
        "pre_train_dataset = pre_train_dataset.map(lambda x: {\"text\": tokenizer.apply_chat_template(x[\"Messages\"], tokenize=False)})\n",
        "\n",
        "print(f\"事前学習データセット: {len(pre_train_dataset)}個\")"
      ]
    },
    {
      "cell_type": "code",
      "execution_count": null,
      "metadata": {
        "id": "Zms7mMP7JS_0"
      },
      "outputs": [],
      "source": [
        "from trl import SFTTrainer, SFTConfig\n",
        "\n",
        "trainer = SFTTrainer(\n",
        "    model = model,\n",
        "    tokenizer = tokenizer,\n",
        "    train_dataset = pre_train_dataset,\n",
        "    args = SFTConfig(\n",
        "        dataset_text_field = \"text\",\n",
        "        per_device_train_batch_size = 1,\n",
        "        gradient_accumulation_steps = 1,\n",
        "        warmup_steps = 5,\n",
        "        num_train_epochs = 2,\n",
        "        learning_rate = 2e-4,\n",
        "        logging_steps = 5,\n",
        "        optim = \"adamw_8bit\",\n",
        "        weight_decay = 0.01,\n",
        "        lr_scheduler_type = \"linear\",\n",
        "        seed = 3407,\n",
        "        report_to = \"none\",\n",
        "    ),\n",
        ")\n",
        "\n",
        "print(\"フォーマット学習を開始...\")\n",
        "trainer.train()"
      ]
    },
    {
      "cell_type": "markdown",
      "metadata": {
        "id": "caP-GJlHJS_0"
      },
      "source": [
        "## 7. ログ関連"
      ]
    },
    {
      "cell_type": "code",
      "execution_count": null,
      "metadata": {
        "id": "hu3_yULcJS_0"
      },
      "outputs": [],
      "source": [
        "from nihongo_dojo.colab import TrainingLogger\n",
        "\n",
        "# ログ管理インスタンスを作成（詳細ログも有効化）\n",
        "# タスク名を指定してログファイル名を設定\n",
        "logger = TrainingLogger(log_dir=\"./logs\", task_name=\"kanji\", enable_detailed_logging=True)\n",
        "\n",
        "# グローバル変数（互換性のため）\n",
        "global TRAINING_LOGS, REWARD_LOGS, ACCURACY_STATS\n",
        "TRAINING_LOGS = logger.training_logs\n",
        "REWARD_LOGS = logger.reward_logs\n",
        "ACCURACY_STATS = {\n",
        "    'correct_format': [],\n",
        "    'correct_answer': [],\n",
        "    'partial_answer': [],\n",
        "    'wrong_answer': [],\n",
        "    'no_answer': []\n",
        "}"
      ]
    },
    {
      "cell_type": "markdown",
      "metadata": {
        "id": "vWyuqSnaJS_1"
      },
      "source": [
        "## 8. 改良版GRPO報酬関数を定義"
      ]
    },
    {
      "cell_type": "code",
      "execution_count": null,
      "metadata": {
        "id": "BXh-tIDeJS_1"
      },
      "outputs": [],
      "source": [
        "# 改良版の報酬関数をインポート\n",
        "from nihongo_dojo.reward import KanjiRewardFunctions\n",
        "\n",
        "# 改良版報酬関数インスタンスを作成\n",
        "kanji_reward_functions = KanjiRewardFunctions(\n",
        "    reasoning_start=reasoning_start,\n",
        "    reasoning_end=reasoning_end,\n",
        "    solution_start=solution_start,\n",
        "    solution_end=solution_end,\n",
        "    eos_token=tokenizer.eos_token\n",
        ")\n",
        "\n",
        "# バランスの取れた報酬関数を取得\n",
        "balanced_rewards = kanji_reward_functions.get_balanced_reward_functions()\n",
        "\n",
        "print(\"改良版報酬関数:\")\n",
        "print(\"1. strict_format_check - 厳格なフォーマットチェック\")\n",
        "print(\"2. balanced_check_kanji_answer - バランスの取れた漢字答えチェック\")\n",
        "print(\"3. enhanced_kanji_quality - 強化された品質チェック\")\n",
        "print(\"4. check_grade_accuracy - 学年正確性チェック\")"
      ]
    },
    {
      "cell_type": "code",
      "execution_count": null,
      "metadata": {
        "id": "4oIvJnOPJS_1"
      },
      "outputs": [],
      "source": [
        "# nihongo_dojoライブラリのログ機能を使用\n",
        "from nihongo_dojo.colab import LoggingRewardWrapper\n",
        "\n",
        "# グローバル変数（後方互換性のため）\n",
        "global PRINTED_TIMES, PRINT_EVERY_STEPS\n",
        "PRINTED_TIMES = 0\n",
        "PRINT_EVERY_STEPS = 5\n",
        "\n",
        "# ログ付き報酬関数を作成（改良版を使用）\n",
        "check_kanji_with_logging = LoggingRewardWrapper(\n",
        "    reward_func=kanji_reward_functions.balanced_check_kanji_answer,\n",
        "    logger=logger,\n",
        "    print_every_steps=PRINT_EVERY_STEPS\n",
        ")"
      ]
    },
    {
      "cell_type": "markdown",
      "metadata": {
        "id": "NEgu6sT8JS_1"
      },
      "source": [
        "## 9. 可視化コールバックの設定"
      ]
    },
    {
      "cell_type": "code",
      "execution_count": null,
      "metadata": {
        "id": "HS7P1ptlJS_1"
      },
      "outputs": [],
      "source": [
        "# nihongo_dojoライブラリの可視化コールバックを使用\n",
        "from nihongo_dojo.colab import GRPOVisualizationCallback\n",
        "\n",
        "# 可視化コールバックを作成\n",
        "visualization_callback = GRPOVisualizationCallback(\n",
        "    update_frequency=5,\n",
        "    keep_history_steps=20,\n",
        "    log_filename=logger.log_filename,\n",
        "    logger=logger\n",
        ")"
      ]
    },
    {
      "cell_type": "markdown",
      "metadata": {
        "id": "V8yyLYDyJS_1"
      },
      "source": [
        "## 10. GRPO学習の実行（改良版報酬関数使用）"
      ]
    },
    {
      "cell_type": "code",
      "execution_count": null,
      "metadata": {
        "id": "molQ16-QJS_1"
      },
      "outputs": [],
      "source": [
        "# GRPO用にフォーマット\n",
        "dataset = dataset.map(lambda x: {\n",
        "    \"prompt\": [\n",
        "        {\"role\": \"system\", \"content\": system_prompt},\n",
        "        {\"role\": \"user\", \"content\": x[\"problem\"]},\n",
        "    ],\n",
        "    \"answer\": x[\"solution\"],  # フルソリューションを保持（報酬関数側で実際の答えを抽出）\n",
        "    \"actual_answer\": x[\"answer\"],  # 実際の答えも保持\n",
        "})\n",
        "\n",
        "# プロンプト長でフィルタリング\n",
        "tokenized = dataset.map(\n",
        "    lambda x: {\"tokens\": tokenizer.apply_chat_template(x[\"prompt\"], add_generation_prompt=True, tokenize=True)},\n",
        "    batched=True,\n",
        ")\n",
        "tokenized = tokenized.map(lambda x: {\"L\": len(x[\"tokens\"])})\n",
        "maximum_length = int(np.quantile(tokenized[\"L\"], 0.9))\n",
        "print(f\"最大プロンプト長: {maximum_length}\")\n",
        "\n",
        "dataset = dataset.select(np.where(np.array(tokenized[\"L\"]) <= maximum_length)[0])\n",
        "print(f\"フィルタ後のデータセット: {len(dataset)}個\")"
      ]
    },
    {
      "cell_type": "code",
      "execution_count": null,
      "metadata": {
        "id": "iURZwMqtJS_1"
      },
      "outputs": [],
      "source": [
        "max_prompt_length = maximum_length + 1 # + 1 念のため\n",
        "max_completion_length = max_seq_length - max_prompt_length\n",
        "\n",
        "from vllm import SamplingParams\n",
        "vllm_sampling_params = SamplingParams(\n",
        "    min_p = 0.1,\n",
        "    top_p = 1.0,\n",
        "    top_k = -1,\n",
        "    seed = 3407,\n",
        "    stop = [tokenizer.eos_token],\n",
        "    include_stop_str_in_output = True,\n",
        ")\n",
        "\n",
        "from trl import GRPOConfig, GRPOTrainer\n",
        "training_args = GRPOConfig(\n",
        "    vllm_sampling_params = vllm_sampling_params,\n",
        "    temperature = 1.0,\n",
        "    learning_rate = 5e-6,\n",
        "    weight_decay = 0.01,\n",
        "    warmup_ratio = 0.1,\n",
        "    lr_scheduler_type = \"linear\",\n",
        "    optim = \"adamw_8bit\",\n",
        "    logging_steps = 1,\n",
        "    per_device_train_batch_size = 1,\n",
        "    gradient_accumulation_steps = 1,\n",
        "    num_generations = 4,\n",
        "    max_prompt_length = max_prompt_length,\n",
        "    max_completion_length = max_completion_length,\n",
        "    max_steps = 2000,\n",
        "    save_steps = 100,\n",
        "    report_to = \"none\",\n",
        "    output_dir = \"outputs_kanji_balanced\",\n",
        ")"
      ]
    },
    {
      "cell_type": "code",
      "execution_count": null,
      "metadata": {
        "id": "jOQr5G13JS_1"
      },
      "outputs": [],
      "source": [
        "trainer = GRPOTrainer(\n",
        "    model = model,\n",
        "    processing_class = tokenizer,\n",
        "    reward_funcs = [\n",
        "        kanji_reward_functions.strict_format_check,         # 厳格なフォーマットチェック\n",
        "        check_kanji_with_logging,                          # バランスの取れた漢字チェック（ログ付き）\n",
        "        kanji_reward_functions.enhanced_kanji_quality,      # 強化された品質チェック\n",
        "        kanji_reward_functions.check_grade_accuracy,        # 学年正確性チェック\n",
        "    ],\n",
        "    args = training_args,\n",
        "    train_dataset = dataset,\n",
        "    callbacks=[visualization_callback],  # ビジュアライゼーションコールバックを追加\n",
        ")\n",
        "\n",
        "print(\"🌸 漢字学習のGRPO学習を開始します（改良版報酬関数使用）...\")\n",
        "print(\"📊 リアルタイムでグラフと統計情報が表示されます\")\n",
        "print(\"💡 報酬バランスが改善され、より効果的な学習が期待できます\")\n",
        "print(\"-\"*80)\n",
        "trainer.train()"
      ]
    },
    {
      "cell_type": "markdown",
      "metadata": {
        "id": "8Ev8wuvxJS_1"
      },
      "source": [
        "## 11. モデルの評価"
      ]
    },
    {
      "cell_type": "code",
      "execution_count": null,
      "metadata": {
        "id": "6ZmAUtKeJS_2"
      },
      "outputs": [],
      "source": [
        "# LoRAモデルを保存\n",
        "model.save_lora(\"grpo_kanji_balanced_lora\")\n",
        "print(\"改良版モデルを保存しました\")"
      ]
    },
    {
      "cell_type": "code",
      "execution_count": null,
      "metadata": {
        "id": "uo-fniSXJS_2"
      },
      "outputs": [],
      "source": [
        "# 漢字テスト\n",
        "test_questions = [\n",
        "    \"「山」の読み方は？\",\n",
        "    \"「かわ」を漢字で書くと？\",\n",
        "    \"「本」の読み方は？\",\n",
        "    \"「つき」を漢字で書くと？\",\n",
        "    \"「学校」の読み方は？\",\n",
        "    \"「せんせい」を漢字で書くと？\",\n",
        "    \"「友達」の読み方は？\",\n",
        "    \"「にほん」を漢字で書くと？\",\n",
        "    \"「図書館」の読み方は？\",\n",
        "    \"「でんしゃ」を漢字で書くと？\",\n",
        "]\n",
        "\n",
        "from vllm import SamplingParams\n",
        "sampling_params = SamplingParams(\n",
        "    temperature = 1.0,\n",
        "    top_k = 50,\n",
        "    max_tokens = 1024,\n",
        ")\n",
        "\n",
        "print(\"=\"*80)\n",
        "print(\"🗾 漢字テスト（改良版モデル）\")\n",
        "print(\"=\"*80)\n",
        "\n",
        "for i, question in enumerate(test_questions, 1):\n",
        "    messages = [\n",
        "        {\"role\": \"system\", \"content\": system_prompt},\n",
        "        {\"role\": \"user\", \"content\": question}\n",
        "    ]\n",
        "\n",
        "    text = tokenizer.apply_chat_template(\n",
        "        messages,\n",
        "        add_generation_prompt=True,\n",
        "        tokenize=False,\n",
        "    )\n",
        "\n",
        "    output = model.fast_generate(\n",
        "        text,\n",
        "        sampling_params=sampling_params,\n",
        "        lora_request=model.load_lora(\"grpo_kanji_balanced_lora\"),\n",
        "    )[0].outputs[0].text\n",
        "\n",
        "    print(f\"\\n{i}. 問題: {question}\")\n",
        "    print(f\"   応答: {output}\")\n",
        "    print(\"-\"*40)"
      ]
    },
    {
      "cell_type": "markdown",
      "metadata": {
        "id": "Tut2oRTQJS_2"
      },
      "source": [
        "## 12. 学習ログの分析"
      ]
    },
    {
      "cell_type": "code",
      "execution_count": null,
      "metadata": {
        "id": "wHLlkqXbJS_2"
      },
      "outputs": [],
      "source": [
        "# nihongo_dojoライブラリの可視化関数を使用\n",
        "from nihongo_dojo.colab.visualization import plot_training_history\n",
        "\n",
        "# 学習履歴を可視化\n",
        "plot_training_history(logger.history_filename)"
      ]
    },
    {
      "cell_type": "code",
      "execution_count": null,
      "metadata": {
        "id": "6j33C0k9JS_2"
      },
      "outputs": [],
      "source": [
        "# 拡張ログ分析\n",
        "from nihongo_dojo.colab import analyze_training_logs\n",
        "\n",
        "print(\"\\n📊 拡張ログ分析を実行中...\")\n",
        "analyze_training_logs(logger.log_filename)"
      ]
    },
    {
      "cell_type": "markdown",
      "metadata": {
        "id": "zLZ6VHyeJS_2"
      },
      "source": [
        "## 13. 改善の効果を比較\n",
        "\n",
        "改良版の報酬関数により、以下の改善が期待されます：\n",
        "\n",
        "1. **報酬分布の改善**: 間違い58.3%→多段階評価による学習促進\n",
        "2. **部分点システム**: 部首の類似性、読み方の部分一致、意味的関連性を評価\n",
        "3. **品質の向上**: 学年情報を含む詳細な説明を評価\n",
        "4. **エラーの減少**: Unicode正規化により表記揺れに対応"
      ]
    },
    {
      "cell_type": "code",
      "execution_count": null,
      "metadata": {
        "id": "WYQIMZ1JJS_2"
      },
      "outputs": [],
      "source": [
        "# 報酬分布の分析\n",
        "print(\"\\n📊 報酬分布の分析\")\n",
        "print(\"改良版の報酬関数により、以下の変化が期待されます：\")\n",
        "print(\"\\n【従来版】\")\n",
        "print(\"- 3.0 (完全正解): 41.7%\")\n",
        "print(\"- -1.5 (不正解): 58.3%\")\n",
        "print(\"- 部分点なし\")\n",
        "print(\"\\n【改良版（期待値）】\")\n",
        "print(\"- 2.0 (完全正解): 25-35%\")\n",
        "print(\"- 0.8-1.8 (読み方部分一致、正規化一致): 20-30%\")\n",
        "print(\"- 0.3-0.5 (形が似た漢字、部分的に正しい): 25-35%\")\n",
        "print(\"- 0.1-0.2 (音が似ている、意味的関連): 10-15%\")\n",
        "print(\"- -1.5 (完全に間違い): 5-10%\")\n",
        "print(\"- -3.0 (フォーマットエラー): <2%\")\n",
        "print(\"\\n特に、部首の類似性や読み方の部分一致により、より効果的な学習が可能になります。\")"
      ]
    },
    {
      "cell_type": "markdown",
      "metadata": {
        "id": "SHJDOA3xJS_7"
      },
      "source": [
        "## 14. モデルの保存（オプション）"
      ]
    },
    {
      "cell_type": "code",
      "execution_count": null,
      "metadata": {
        "id": "CiBYX2i9JS_7"
      },
      "outputs": [],
      "source": [
        "# 最終的なモデルをHuggingFaceに保存（オプション）\n",
        "# model.push_to_hub_merged(\"username/grpo-kanji-balanced\", tokenizer, save_method=\"lora\")\n",
        "# print(\"モデルの保存準備が完了しました。\")"
      ]
    }
  ],
  "metadata": {
    "kernelspec": {
      "display_name": "Python 3",
      "name": "python3"
    },
    "language_info": {
      "codemirror_mode": {
        "name": "ipython",
        "version": 3
      },
      "file_extension": ".py",
      "mimetype": "text/x-python",
      "name": "python",
      "nbconvert_exporter": "python",
      "pygments_lexer": "ipython3",
      "version": "3.10.0"
    },
    "colab": {
      "provenance": [],
      "gpuType": "T4"
    },
    "accelerator": "GPU"
  },
  "nbformat": 4,
  "nbformat_minor": 0
}