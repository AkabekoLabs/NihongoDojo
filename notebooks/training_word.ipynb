{
  "cells": [
    {
      "cell_type": "markdown",
      "metadata": {
        "id": "1oxpuos5j-KD"
      },
      "source": [
        "# 語順並び替えタスクGRPO学習ノートブック"
      ]
    },
    {
      "cell_type": "markdown",
      "metadata": {
        "id": "PpyO388Oj-KF"
      },
      "source": [
        "## 1. 環境セットアップ"
      ]
    },
    {
      "cell_type": "code",
      "execution_count": null,
      "metadata": {
        "id": "9dcVpzNEj-KF"
      },
      "outputs": [],
      "source": [
        "# GPU環境の確認\n",
        "import torch\n",
        "import os\n",
        "\n",
        "print(\"=== GPU環境チェック ===\")\n",
        "print(f\"CUDA利用可能: {torch.cuda.is_available()}\")\n",
        "\n",
        "if torch.cuda.is_available():\n",
        "    print(f\"GPU名: {torch.cuda.get_device_name(0)}\")\n",
        "    print(f\"GPUメモリ: {torch.cuda.get_device_properties(0).total_memory / 1024**3:.2f} GB\")\n",
        "    print(\"✅ GPU環境が正常に検出されました！\")\n",
        "else:\n",
        "    print(\"❌ GPUが検出されません！\")\n",
        "    print(\"上記の手順でGPUを有効にしてください。\")\n",
        "    print(\"その後、ランタイムを再起動してこのセルを再実行してください。\")\n",
        "\n",
        "# Colab環境かチェック\n",
        "if 'COLAB_GPU' in os.environ:\n",
        "    print(f\"\\nGoogle Colab GPU: {os.environ['COLAB_GPU']}\")\n",
        "elif 'COLAB_' in \"\".join(os.environ.keys()):\n",
        "    print(\"\\nGoogle Colab環境です。GPUを有効にしてください。\")\n",
        "else:\n",
        "    print(\"\\nローカル環境で実行中\")"
      ]
    },
    {
      "cell_type": "markdown",
      "metadata": {
        "id": "bknR4kx0j-KG"
      },
      "source": [
        "*   unsloth 2025.7.3\n",
        "*   unsloth-zoo 2025.7.4\n",
        "\n",
        "の組み合わせで動作。\n",
        "\n",
        "https://github.com/unslothai/unsloth/issues/2983"
      ]
    },
    {
      "cell_type": "code",
      "execution_count": null,
      "metadata": {
        "id": "qBf8VhQQj-KG"
      },
      "outputs": [],
      "source": [
        "%%capture\n",
        "import os\n",
        "if \"COLAB_\" not in \"\".join(os.environ.keys()):\n",
        "    !pip install unsloth==2025.7.3 unsloth-zoo==2025.7.4 vllm\n",
        "else:\n",
        "    # [NOTE] Do the below ONLY in Colab! Use [[pip install unsloth vllm]]\n",
        "    !pip install --no-deps unsloth==2025.7.3 unsloth-zoo==2025.7.4 vllm==0.8.5.post1"
      ]
    },
    {
      "cell_type": "code",
      "execution_count": null,
      "metadata": {
        "id": "uTPnhXv7j-KG"
      },
      "outputs": [],
      "source": [
        "#@title Colab追加インストール { display-mode: \"form\" }\n",
        "%%capture\n",
        "import os\n",
        "if \"COLAB_\" not in \"\".join(os.environ.keys()):\n",
        "    !pip install unsloth==2025.7.3, unsloth-zoo==2025.7.4 vllm\n",
        "else:\n",
        "    !pip install --no-deps unsloth==2025.7.3 vllm==0.8.5.post1\n",
        "    # Qwen3_(4B)_GRPO.ipynbと同じ設定\n",
        "    import sys, re, requests; modules = list(sys.modules.keys())\n",
        "    for x in modules: sys.modules.pop(x) if \"PIL\" in x or \"google\" in x else None\n",
        "    !pip install --no-deps bitsandbytes accelerate xformers==0.0.29.post3 peft trl triton cut_cross_entropy unsloth-zoo==2025.7.4\n",
        "    !pip install sentencepiece protobuf \"datasets>=3.4.1\" huggingface_hub hf_transfer\n",
        "\n",
        "    # vLLM requirements - vLLMはnumpyを再インストールするためColabを壊す\n",
        "    f = requests.get(\"https://raw.githubusercontent.com/vllm-project/vllm/refs/heads/main/requirements/common.txt\").content\n",
        "    with open(\"vllm_requirements.txt\", \"wb\") as file:\n",
        "        file.write(re.sub(rb\"(transformers|numpy|xformers)[^\\n]{1,}\\n\", b\"\", f))\n",
        "    !pip install -r vllm_requirements.txt"
      ]
    },
    {
      "cell_type": "markdown",
      "metadata": {
        "id": "v6cnOkUoj-KG"
      },
      "source": [
        "## 2. モデルのロード"
      ]
    },
    {
      "cell_type": "code",
      "execution_count": null,
      "metadata": {
        "id": "7N0u2RyGj-KG"
      },
      "outputs": [],
      "source": [
        "# GPU環境が確認できた場合のみ実行\n",
        "if not torch.cuda.is_available():\n",
        "    raise RuntimeError(\"GPUが検出されません。上記の手順でGPUを有効にしてください。\")\n",
        "\n",
        "from unsloth import FastLanguageModel\n",
        "import torch\n",
        "\n",
        "print(\"モデルをロード中...\")\n",
        "max_seq_length = 2048\n",
        "lora_rank = 32\n",
        "\n",
        "model, tokenizer = FastLanguageModel.from_pretrained(\n",
        "    model_name = \"unsloth/Qwen3-4B-Base\",\n",
        "    max_seq_length = max_seq_length,\n",
        "    load_in_4bit = False,\n",
        "    fast_inference = True,\n",
        "    max_lora_rank = lora_rank,\n",
        "    gpu_memory_utilization = 0.7,\n",
        ")\n",
        "\n",
        "model = FastLanguageModel.get_peft_model(\n",
        "    model,\n",
        "    r = lora_rank,\n",
        "    target_modules = [\"q_proj\", \"k_proj\", \"v_proj\", \"o_proj\", \"gate_proj\", \"up_proj\", \"down_proj\"],\n",
        "    lora_alpha = lora_rank*2,\n",
        "    use_gradient_checkpointing = \"unsloth\",\n",
        "    random_state = 3407,\n",
        ")"
      ]
    },
    {
      "cell_type": "markdown",
      "metadata": {
        "id": "qRAXplezj-KH"
      },
      "source": [
        "## 3.nihongo-dojoのインストール"
      ]
    },
    {
      "cell_type": "code",
      "execution_count": null,
      "metadata": {
        "id": "kUPDqrlHj-KH"
      },
      "outputs": [],
      "source": [
        "# Google Colab環境での準備\n",
        "%cd /content\n",
        "!git clone https://github.com/AkabekoLabs/nihongo-dojo\n",
        "%cd /content/nihongo-dojo/\n",
        "!pip install -e .\n",
        "!pip install japanize-matplotlib scikit-learn\n",
        "%cd /content/"
      ]
    },
    {
      "cell_type": "code",
      "source": [
        "import sys\n",
        "sys.path.insert(0, '/content/nihongo-dojo')\n",
        "\n",
        "# キャッシュクリア (重要)\n",
        "import importlib\n",
        "importlib.invalidate_caches()\n",
        "\n",
        "# これで再インポート\n",
        "import nihongo_dojo\n",
        "importlib.reload(nihongo_dojo)"
      ],
      "metadata": {
        "id": "oNZdyTZnwTWO"
      },
      "execution_count": null,
      "outputs": []
    },
    {
      "cell_type": "code",
      "execution_count": null,
      "metadata": {
        "id": "GZUzZ0Hoj-KH"
      },
      "outputs": [],
      "source": [
        "import sys, importlib\n",
        "module_path = \"/content/nihongo-dojo\"\n",
        "if module_path not in sys.path:\n",
        "    sys.path.append(module_path)\n",
        "\n",
        "import nihongo_dojo\n",
        "importlib.reload(nihongo_dojo)\n",
        "from nihongo_dojo.colab import TrainingLogger"
      ]
    },
    {
      "cell_type": "markdown",
      "metadata": {
        "id": "6gQQV1UDj-KH"
      },
      "source": [
        "## 4. チャットテンプレートの設定"
      ]
    },
    {
      "cell_type": "code",
      "execution_count": null,
      "metadata": {
        "id": "9pKYyBfDj-KH"
      },
      "outputs": [],
      "source": [
        "# チャットテンプレートを設定\n",
        "system_prompt = \"あなたは親切で賢いアシスタントです。日本語の単語を正しい順番に並び替えて文を作ってください。\"\n",
        "\n",
        "# デフォルト設定\n",
        "reasoning_start = \"<reasoning>\"\n",
        "reasoning_end = \"</reasoning>\"\n",
        "solution_start = \"<answer>\"\n",
        "solution_end = \"</answer>\"\n",
        "\n",
        "chat_template = \"\"\"{% if messages[0]['role'] == 'system' %}{{ messages[0]['content'] }}{% endif %}\n",
        "\n",
        "{% for message in messages %}{% if message['role'] == 'user' %}\n",
        "User: {{ message['content'] }}\n",
        "\n",
        "{% elif message['role'] == 'assistant' %}{{ 'Assistant: ' + message['content'] }}{% endif %}{% endfor %}\"\"\"\n",
        "\n",
        "tokenizer.chat_template = chat_template"
      ]
    },
    {
      "cell_type": "markdown",
      "metadata": {
        "id": "f90ArqXej-KH"
      },
      "source": [
        "## 5. データセットの作成"
      ]
    },
    {
      "cell_type": "code",
      "execution_count": null,
      "metadata": {
        "id": "StNu2n8Vj-KH"
      },
      "outputs": [],
      "source": [
        "# 語順並び替えデータセット生成\n",
        "import os\n",
        "if not os.path.exists(\"./datasets/nihongo-dojo-word-order/\"):\n",
        "    %cd /content\n",
        "    !python nihongo-dojo/scripts/generate_datasets.py --tasks WORD_ORDER --custom-size 2000 --output-format jsonl --output-dir ./datasets\n",
        "else:\n",
        "    print(\"データセットは既に生成済みです\")"
      ]
    },
    {
      "cell_type": "code",
      "execution_count": null,
      "metadata": {
        "id": "i3YW7y2Ej-KH"
      },
      "outputs": [],
      "source": [
        "from datasets import load_dataset, Dataset\n",
        "import numpy as np\n",
        "import sys\n",
        "\n",
        "print(\"データセットを読み込み中...\")\n",
        "\n",
        "dataset_path = './datasets/nihongo-dojo-word_order/'\n",
        "\n",
        "# all.jsonlファイルが存在するか確認\n",
        "import os\n",
        "if os.path.exists(os.path.join(dataset_path, 'all.jsonl')):\n",
        "    # 直接ファイルを読み込む方法\n",
        "    import json\n",
        "    data = []\n",
        "    with open(os.path.join(dataset_path, 'all.jsonl'), 'r', encoding='utf-8') as f:\n",
        "        for line in f:\n",
        "            data.append(json.loads(line))\n",
        "    dataset = Dataset.from_list(data)\n",
        "elif os.path.exists(os.path.join(dataset_path, 'train.jsonl')):\n",
        "    # train.jsonlを試す\n",
        "    import json\n",
        "    data = []\n",
        "    with open(os.path.join(dataset_path, 'train.jsonl'), 'r', encoding='utf-8') as f:\n",
        "        for line in f:\n",
        "            data.append(json.loads(line))\n",
        "    dataset = Dataset.from_list(data)\n",
        "else:\n",
        "    # データセットが見つからない場合のエラーメッセージ\n",
        "    raise FileNotFoundError(f\"データセットが見つかりません: {dataset_path}\")\n",
        "\n",
        "print(f\"データセットサイズ: {len(dataset)}\")\n",
        "\n",
        "# データセットの例を表示\n",
        "print(\"\\nデータセットの例:\")\n",
        "for i in range(min(3, len(dataset))):\n",
        "    print(f\"\\n例{i+1}:\")\n",
        "    print(f\"  問題: {dataset[i]['instruction']}{dataset[i]['input']}\")\n",
        "    print(f\"  答え: {dataset[i]['answer']}\")\n",
        "    print(f\"  説明: {dataset[i]['think'][:100]}...\")"
      ]
    },
    {
      "cell_type": "code",
      "execution_count": null,
      "metadata": {
        "id": "yLpYmxSYj-KH"
      },
      "outputs": [],
      "source": [
        "# フォーマット変換\n",
        "formatted_data = []\n",
        "for item in dataset:\n",
        "    question = item['instruction'] + item['input']\n",
        "    answer = item['answer']\n",
        "    think = item['think']\n",
        "    solution = f\"{reasoning_start}\\n{think}\\n{reasoning_end}\\n{solution_start}{answer}{solution_end}\"\n",
        "\n",
        "    messages = [\n",
        "        {\"role\": \"system\", \"content\": system_prompt},\n",
        "        {\"role\": \"user\", \"content\": question},\n",
        "        {\"role\": \"assistant\", \"content\": solution}\n",
        "    ]\n",
        "\n",
        "    formatted_data.append({\n",
        "        \"Messages\": messages,\n",
        "        \"problem\": question,\n",
        "        \"solution\": solution,\n",
        "        \"answer\": answer,\n",
        "    })\n",
        "\n",
        "dataset = Dataset.from_list(formatted_data)\n",
        "print(f\"フォーマット済みデータセット: {len(dataset)}個\")"
      ]
    },
    {
      "cell_type": "markdown",
      "metadata": {
        "id": "K6rMpajlj-KI"
      },
      "source": [
        "## 6. SFTによる事前学習（フォーマット学習）\n",
        "\n",
        "コールドスタート問題を解消するために、`<reasoning></reasoning><answer></answer>`のフォーマットで出力ができるようにSFTで学習させます。"
      ]
    },
    {
      "cell_type": "code",
      "execution_count": null,
      "metadata": {
        "id": "ExuiUaGPj-KI"
      },
      "outputs": [],
      "source": [
        "# 短い例のみを選択\n",
        "dataset = dataset.map(lambda x: {\"N\": len(tokenizer.apply_chat_template(x[\"Messages\"]))})\n",
        "pre_train_dataset = dataset.filter(lambda x: x[\"N\"] <= max_seq_length/2).select(range(min(50, len(dataset))))\n",
        "pre_train_dataset = pre_train_dataset.map(lambda x: {\"text\": tokenizer.apply_chat_template(x[\"Messages\"], tokenize=False)})\n",
        "\n",
        "print(f\"事前学習データセット: {len(pre_train_dataset)}個\")"
      ]
    },
    {
      "cell_type": "code",
      "execution_count": null,
      "metadata": {
        "id": "FtGYJOxKj-KI"
      },
      "outputs": [],
      "source": [
        "from trl import SFTTrainer, SFTConfig\n",
        "\n",
        "trainer = SFTTrainer(\n",
        "    model = model,\n",
        "    tokenizer = tokenizer,\n",
        "    train_dataset = pre_train_dataset,\n",
        "    args = SFTConfig(\n",
        "        dataset_text_field = \"text\",\n",
        "        per_device_train_batch_size = 1,\n",
        "        gradient_accumulation_steps = 1,\n",
        "        warmup_steps = 5,\n",
        "        num_train_epochs = 2,\n",
        "        learning_rate = 2e-4,\n",
        "        logging_steps = 5,\n",
        "        optim = \"adamw_8bit\",\n",
        "        weight_decay = 0.01,\n",
        "        lr_scheduler_type = \"linear\",\n",
        "        seed = 3407,\n",
        "        report_to = \"none\",\n",
        "    ),\n",
        ")\n",
        "\n",
        "print(\"フォーマット学習を開始...\")\n",
        "trainer.train()"
      ]
    },
    {
      "cell_type": "markdown",
      "metadata": {
        "id": "F1Cv6aL3j-KI"
      },
      "source": [
        "## 7. ログ関連"
      ]
    },
    {
      "cell_type": "code",
      "execution_count": null,
      "metadata": {
        "id": "Mvwwe_aGj-KI"
      },
      "outputs": [],
      "source": [
        "from nihongo_dojo.colab import TrainingLogger\n",
        "\n",
        "# ログ管理インスタンスを作成（詳細ログも有効化）\n",
        "# タスク名を指定してログファイル名を設定\n",
        "logger = TrainingLogger(log_dir=\"./logs\", task_name=\"word\", enable_detailed_logging=True)\n",
        "\n",
        "# グローバル変数（互換性のため）\n",
        "global TRAINING_LOGS, REWARD_LOGS, ACCURACY_STATS\n",
        "TRAINING_LOGS = logger.training_logs\n",
        "REWARD_LOGS = logger.reward_logs\n",
        "ACCURACY_STATS = {\n",
        "    'correct_format': [],\n",
        "    'correct_answer': [],\n",
        "    'partial_answer': [],\n",
        "    'wrong_answer': [],\n",
        "    'no_answer': []\n",
        "}"
      ]
    },
    {
      "cell_type": "markdown",
      "metadata": {
        "id": "IynClTaKj-KI"
      },
      "source": [
        "## 8. 改良版GRPO報酬関数を定義"
      ]
    },
    {
      "cell_type": "code",
      "execution_count": null,
      "metadata": {
        "id": "5UTXEnABj-KI"
      },
      "outputs": [],
      "source": [
        "# 既存の報酬関数をインポート（ログ分析に基づき、部分点を追加）\n",
        "from nihongo_dojo.reward import JapaneseTaskRewardFunctions\n",
        "import re\n",
        "import difflib\n",
        "\n",
        "# 基本報酬関数インスタンスを作成\n",
        "base_reward_functions = JapaneseTaskRewardFunctions(\n",
        "    reasoning_start=reasoning_start,\n",
        "    reasoning_end=reasoning_end,\n",
        "    solution_start=solution_start,\n",
        "    solution_end=solution_end,\n",
        "    eos_token=tokenizer.eos_token\n",
        ")\n",
        "\n",
        "# 語順タスク用の改良版報酬関数を定義\n",
        "def improved_check_word_order(prompts=None, completions=None, completion_ids=None, answer=None, **kwargs):\n",
        "    \"\"\"語順タスクに特化した報酬関数（部分点対応）\"\"\"\n",
        "    # 基本的な答え抽出\n",
        "    if prompts is not None and completions is not None:\n",
        "        responses = completions\n",
        "    else:\n",
        "        responses = kwargs.get('completions', [])\n",
        "\n",
        "    # 答えの処理\n",
        "    if answer and isinstance(answer, list) and len(answer) > 0 and isinstance(answer[0], str) and '<answer>' in answer[0]:\n",
        "        extracted_answers = []\n",
        "        for ans in answer:\n",
        "            match = re.search(r'<answer>(.+?)</answer>', ans, re.DOTALL)\n",
        "            if match:\n",
        "                extracted_answers.append(match.group(1).strip())\n",
        "            else:\n",
        "                extracted_answers.append(ans)\n",
        "        answer = extracted_answers\n",
        "\n",
        "    if not isinstance(answer, list):\n",
        "        answer = [answer] * len(responses)\n",
        "\n",
        "    # フォーマット抽出\n",
        "    match_format = re.compile(\n",
        "        rf\"{reasoning_end}.*?\"\n",
        "        rf\"{solution_start}(.+?){solution_end}\"\n",
        "        rf\".*$\",\n",
        "        flags=re.MULTILINE | re.DOTALL\n",
        "    )\n",
        "\n",
        "    extracted_responses = []\n",
        "    for r in responses:\n",
        "        if isinstance(r, str):\n",
        "            text = r\n",
        "        elif isinstance(r, list) and len(r) > 0:\n",
        "            text = r[0].get(\"content\", \"\") if isinstance(r[0], dict) else str(r[0])\n",
        "        else:\n",
        "            text = \"\"\n",
        "\n",
        "        match = match_format.search(text)\n",
        "        if match:\n",
        "            extracted_responses.append(match.group(1).strip())\n",
        "        else:\n",
        "            extracted_responses.append(None)\n",
        "\n",
        "    scores = []\n",
        "\n",
        "    for guess, true_answer in zip(extracted_responses, answer):\n",
        "        # フォーマットエラー\n",
        "        if guess is None:\n",
        "            scores.append(-2.0)\n",
        "            continue\n",
        "\n",
        "        # 完全一致\n",
        "        if guess == true_answer:\n",
        "            scores.append(2.0)\n",
        "            continue\n",
        "\n",
        "        # 同義語・言い換えチェック\n",
        "        synonyms = {\n",
        "            \"不可欠です\": \"欠かせません\",\n",
        "            \"欠かせません\": \"不可欠です\",\n",
        "            \"必要です\": \"必要があります\",\n",
        "            \"必要があります\": \"必要です\",\n",
        "        }\n",
        "\n",
        "        # 同義語による置換を試す\n",
        "        modified_guess = guess\n",
        "        for orig, syn in synonyms.items():\n",
        "            if orig in true_answer and syn in guess:\n",
        "                modified_guess = guess.replace(syn, orig)\n",
        "                break\n",
        "\n",
        "        if modified_guess == true_answer:\n",
        "            scores.append(1.5)  # 同義語使用\n",
        "            continue\n",
        "\n",
        "        # 助詞のバリエーションチェック（には vs に）\n",
        "        if true_answer.replace(\"には\", \"に\") == guess.replace(\"には\", \"に\"):\n",
        "            scores.append(1.0)  # 助詞バリエーション\n",
        "            continue\n",
        "\n",
        "        # 並列構造の順序（A も B も）\n",
        "        if \"も\" in guess and \"も\" in true_answer:\n",
        "            # 並列要素を抽出して比較\n",
        "            guess_elements = set(re.findall(r'([^も]+)も', guess))\n",
        "            answer_elements = set(re.findall(r'([^も]+)も', true_answer))\n",
        "            if guess_elements == answer_elements:\n",
        "                scores.append(1.0)  # 順序は違うが要素は同じ\n",
        "                continue\n",
        "\n",
        "        # 文字列類似度による部分点\n",
        "        similarity = difflib.SequenceMatcher(None, guess, true_answer).ratio()\n",
        "        if similarity > 0.8:\n",
        "            scores.append(0.5)  # 高い類似度\n",
        "        elif similarity > 0.6:\n",
        "            scores.append(0.0)  # 中程度の類似度\n",
        "        else:\n",
        "            scores.append(-1.0)  # 低い類似度\n",
        "\n",
        "    return scores\n",
        "\n",
        "print(\"改良版報酬関数:\")\n",
        "print(\"1. match_format_exactly - フォーマットチェック\")\n",
        "print(\"2. improved_check_word_order - 語順チェック（部分点対応）\")\n",
        "print(\"3. check_reasoning_quality - 推論品質チェック\")"
      ]
    },
    {
      "cell_type": "code",
      "execution_count": null,
      "metadata": {
        "id": "Yt-CLCzOj-KI"
      },
      "outputs": [],
      "source": [
        "# nihongo_dojoライブラリのログ機能を使用\n",
        "from nihongo_dojo.colab import LoggingRewardWrapper\n",
        "\n",
        "# グローバル変数（後方互換性のため）\n",
        "global PRINTED_TIMES, PRINT_EVERY_STEPS\n",
        "PRINTED_TIMES = 0\n",
        "PRINT_EVERY_STEPS = 5\n",
        "\n",
        "# ログ付き報酬関数を作成（改良版を使用）\n",
        "check_word_order_with_logging = LoggingRewardWrapper(\n",
        "    reward_func=improved_check_word_order,\n",
        "    logger=logger,\n",
        "    print_every_steps=PRINT_EVERY_STEPS\n",
        ")"
      ]
    },
    {
      "cell_type": "markdown",
      "metadata": {
        "id": "T0zv0unJj-KI"
      },
      "source": [
        "\n",
        "\n",
        "## 9. 可視化コールバックの設定"
      ]
    },
    {
      "cell_type": "code",
      "execution_count": null,
      "metadata": {
        "id": "jCmzNQGPj-KI"
      },
      "outputs": [],
      "source": [
        "# nihongo_dojoライブラリの可視化コールバックを使用\n",
        "from nihongo_dojo.colab import GRPOVisualizationCallback\n",
        "\n",
        "# 可視化コールバックを作成\n",
        "visualization_callback = GRPOVisualizationCallback(\n",
        "    update_frequency=5,\n",
        "    keep_history_steps=20,\n",
        "    log_filename=logger.log_filename,\n",
        "    logger=logger\n",
        ")"
      ]
    },
    {
      "cell_type": "markdown",
      "metadata": {
        "id": "OJ6QOoZuj-KJ"
      },
      "source": [
        "## 10. GRPO学習の実行（改良版報酬関数使用）"
      ]
    },
    {
      "cell_type": "code",
      "execution_count": null,
      "metadata": {
        "id": "zdT9Kkepj-KJ"
      },
      "outputs": [],
      "source": [
        "# GRPO用にフォーマット\n",
        "dataset = dataset.map(lambda x: {\n",
        "    \"prompt\": [\n",
        "        {\"role\": \"system\", \"content\": system_prompt},\n",
        "        {\"role\": \"user\", \"content\": x[\"problem\"]},\n",
        "    ],\n",
        "    \"answer\": x[\"solution\"],  # フルソリューションを保持（報酬関数側で実際の答えを抽出）\n",
        "    \"actual_answer\": x[\"answer\"],  # 実際の答えも保持\n",
        "})\n",
        "\n",
        "# プロンプト長でフィルタリング\n",
        "tokenized = dataset.map(\n",
        "    lambda x: {\"tokens\": tokenizer.apply_chat_template(x[\"prompt\"], add_generation_prompt=True, tokenize=True)},\n",
        "    batched=True,\n",
        ")\n",
        "tokenized = tokenized.map(lambda x: {\"L\": len(x[\"tokens\"])})\n",
        "maximum_length = int(np.quantile(tokenized[\"L\"], 0.9))\n",
        "print(f\"最大プロンプト長: {maximum_length}\")\n",
        "\n",
        "dataset = dataset.select(np.where(np.array(tokenized[\"L\"]) <= maximum_length)[0])\n",
        "print(f\"フィルタ後のデータセット: {len(dataset)}個\")"
      ]
    },
    {
      "cell_type": "code",
      "execution_count": null,
      "metadata": {
        "id": "iRIiS7Qzj-KJ"
      },
      "outputs": [],
      "source": [
        "max_prompt_length = maximum_length + 1 # + 1 念のため\n",
        "max_completion_length = max_seq_length - max_prompt_length\n",
        "\n",
        "from vllm import SamplingParams\n",
        "vllm_sampling_params = SamplingParams(\n",
        "    min_p = 0.1,\n",
        "    top_p = 1.0,\n",
        "    top_k = -1,\n",
        "    seed = 3407,\n",
        "    stop = [tokenizer.eos_token],\n",
        "    include_stop_str_in_output = True,\n",
        ")\n",
        "\n",
        "from trl import GRPOConfig, GRPOTrainer\n",
        "training_args = GRPOConfig(\n",
        "    vllm_sampling_params = vllm_sampling_params,\n",
        "    temperature = 1.0,\n",
        "    learning_rate = 5e-6,\n",
        "    weight_decay = 0.01,\n",
        "    warmup_ratio = 0.1,\n",
        "    lr_scheduler_type = \"linear\",\n",
        "    optim = \"adamw_8bit\",\n",
        "    logging_steps = 1,\n",
        "    per_device_train_batch_size = 1,\n",
        "    gradient_accumulation_steps = 1,\n",
        "    num_generations = 4,\n",
        "    max_prompt_length = max_prompt_length,\n",
        "    max_completion_length = max_completion_length,\n",
        "    max_steps = 2000,\n",
        "    save_steps = 100,\n",
        "    report_to = \"none\",\n",
        "    output_dir = \"outputs_word_balanced\",\n",
        ")"
      ]
    },
    {
      "cell_type": "code",
      "execution_count": null,
      "metadata": {
        "id": "L9fZKPCyj-KJ"
      },
      "outputs": [],
      "source": [
        "trainer = GRPOTrainer(\n",
        "    model = model,\n",
        "    processing_class = tokenizer,\n",
        "    reward_funcs = [\n",
        "        base_reward_functions.match_format_exactly,      # 厳格なフォーマットチェック\n",
        "        check_word_order_with_logging,                  # 改良版語順チェック（ログ付き）\n",
        "        base_reward_functions.check_reasoning_quality,  # 推論品質チェック\n",
        "    ],\n",
        "    args = training_args,\n",
        "    train_dataset = dataset,\n",
        "    callbacks=[visualization_callback],  # ビジュアライゼーションコールバックを追加\n",
        ")\n",
        "\n",
        "print(\"📝 語順並び替え学習のGRPO学習を開始します（改良版報酬関数使用）...\")\n",
        "print(\"📊 リアルタイムでグラフと統計情報が表示されます\")\n",
        "print(\"💡 報酬バランスが改善され、より効果的な学習が期待できます\")\n",
        "print(\"-\"*80)\n",
        "trainer.train()"
      ]
    },
    {
      "cell_type": "markdown",
      "metadata": {
        "id": "dmyAbB_Bj-KJ"
      },
      "source": [
        "\n",
        "\n",
        "## 11. モデルの評価"
      ]
    },
    {
      "cell_type": "code",
      "execution_count": null,
      "metadata": {
        "id": "o2wwKjs6j-KJ"
      },
      "outputs": [],
      "source": [
        "# LoRAモデルを保存\n",
        "model.save_lora(\"grpo_word_balanced_lora\")\n",
        "print(\"改良版モデルを保存しました\")"
      ]
    },
    {
      "cell_type": "code",
      "execution_count": null,
      "metadata": {
        "id": "3O-c5O0Xj-KJ"
      },
      "outputs": [],
      "source": [
        "# 語順並び替えテスト\n",
        "test_questions = [\n",
        "    \"次の単語を正しい順番に並び替えて文を作ってください。昨日 / 映画を / 友達と / 見ました\",\n",
        "    \"次の単語を正しい順番に並び替えて文を作ってください。学校に / 明日 / 行きます / 私は\",\n",
        "    \"次の単語を正しい順番に並び替えて文を作ってください。読んでいます / 毎日 / 本を / 彼は\",\n",
        "    \"次の単語を正しい順番に並び替えて文を作ってください。おいしかった / とても / ケーキは / 昨日の\",\n",
        "    \"次の単語を正しい順番に並び替えて文を作ってください。行きたいです / いつか / 日本に / 私は\",\n",
        "    \"次の単語を正しい順番に並び替えて文を作ってください。終わってから / 宿題を / します / 授業が\",\n",
        "    \"次の単語を正しい順番に並び替えて文を作ってください。好きです / 音楽を / 聞くのが / 私は\",\n",
        "    \"次の単語を正しい順番に並び替えて文を作ってください。行きました / 公園に / 散歩に / 朝\",\n",
        "    \"次の単語を正しい順番に並び替えて文を作ってください。買いました / 新しい / 昨日 / 本を\",\n",
        "    \"次の単語を正しい順番に並び替えて文を作ってください。勉強しています / ために / 試験の / 一生懸命\",\n",
        "]\n",
        "\n",
        "from vllm import SamplingParams\n",
        "sampling_params = SamplingParams(\n",
        "    temperature = 1.0,\n",
        "    top_k = 50,\n",
        "    max_tokens = 1024,\n",
        ")\n",
        "\n",
        "print(\"=\"*80)\n",
        "print(\"🗾 語順並び替えテスト（改良版モデル）\")\n",
        "print(\"=\"*80)\n",
        "\n",
        "for i, question in enumerate(test_questions, 1):\n",
        "    messages = [\n",
        "        {\"role\": \"system\", \"content\": system_prompt},\n",
        "        {\"role\": \"user\", \"content\": question}\n",
        "    ]\n",
        "\n",
        "    text = tokenizer.apply_chat_template(\n",
        "        messages,\n",
        "        add_generation_prompt=True,\n",
        "        tokenize=False,\n",
        "    )\n",
        "\n",
        "    output = model.fast_generate(\n",
        "        text,\n",
        "        sampling_params=sampling_params,\n",
        "        lora_request=model.load_lora(\"grpo_word_balanced_lora\"),\n",
        "    )[0].outputs[0].text\n",
        "\n",
        "    print(f\"\\n{i}. 問題: {question}\")\n",
        "    print(f\"   応答: {output}\")\n",
        "    print(\"-\"*40)"
      ]
    },
    {
      "cell_type": "markdown",
      "metadata": {
        "id": "b6FZTz2Qj-KJ"
      },
      "source": [
        "## 12. 学習ログの分析"
      ]
    },
    {
      "cell_type": "code",
      "execution_count": null,
      "metadata": {
        "id": "eQH7JRm9j-KJ"
      },
      "outputs": [],
      "source": [
        "# nihongo_dojoライブラリの可視化関数を使用\n",
        "from nihongo_dojo.colab.visualization import plot_training_history\n",
        "\n",
        "# 学習履歴を可視化\n",
        "plot_training_history(logger.history_filename)"
      ]
    },
    {
      "cell_type": "code",
      "execution_count": null,
      "metadata": {
        "id": "ru0v2ieZj-KJ"
      },
      "outputs": [],
      "source": [
        "# 拡張ログ分析\n",
        "from nihongo_dojo.colab import analyze_training_logs\n",
        "\n",
        "print(\"\\n📊 拡張ログ分析を実行中...\")\n",
        "analyze_training_logs(logger.log_filename)"
      ]
    },
    {
      "cell_type": "markdown",
      "metadata": {
        "id": "ZYC5l7Bsj-KJ"
      },
      "source": [
        "## 13. 改善の効果を比較\n",
        "\n",
        "改良版の報酬関数により、以下の改善が期待されます：\n",
        "\n",
        "1. **報酬分布の改善**: より適切な部分点による学習の促進\n",
        "2. **語順評価の詳細化**: 単語の位置、助詞の保持、文末の正確性を評価\n",
        "3. **品質の向上**: 語順に関する文法説明の質が向上\n",
        "4. **エラーの減少**: フォーマットエラーと完全に誤った答えの削減"
      ]
    },
    {
      "cell_type": "code",
      "execution_count": null,
      "metadata": {
        "id": "mnGs7Hbuj-KK"
      },
      "outputs": [],
      "source": [
        "# 報酬分布の分析\n",
        "print(\"\\n📊 報酬分布の分析\")\n",
        "print(\"改良版の報酬関数により、以下の変化が期待されます：\")\n",
        "print(\"\\n【従来版】\")\n",
        "print(\"- 2.0 (完全正解): 97.7%\")\n",
        "print(\"- -2.0 (不正解): 2.3%\")\n",
        "print(\"- バイナリースコアリングで中間評価なし\")\n",
        "print(\"\\n【改良版（期待値）】\")\n",
        "print(\"- 2.0 (完全正解): 40-50%\")\n",
        "print(\"- 1.5 (同義語使用): 10-15%\")\n",
        "print(\"- 1.0 (助詞バリエーション/並列順序): 15-20%\")\n",
        "print(\"- 0.5 (高い類似度): 10-15%\")\n",
        "print(\"- 0.0 (中程度の類似度): 5-10%\")\n",
        "print(\"- -1.0 (低い類似度): 3-5%\")\n",
        "print(\"- -2.0 (フォーマットエラー): <2%\")\n",
        "print(\"\\n特に、同義語や助詞バリエーションの評価により、より柔軟で自然な日本語学習が可能になります。\")"
      ]
    },
    {
      "cell_type": "markdown",
      "metadata": {
        "id": "Ufxvq18Xj-KK"
      },
      "source": [
        "## 14. モデルの保存（オプション）"
      ]
    }
  ],
  "metadata": {
    "language_info": {
      "name": "python"
    },
    "colab": {
      "provenance": [],
      "gpuType": "T4"
    },
    "kernelspec": {
      "name": "python3",
      "display_name": "Python 3"
    },
    "accelerator": "GPU"
  },
  "nbformat": 4,
  "nbformat_minor": 0
}